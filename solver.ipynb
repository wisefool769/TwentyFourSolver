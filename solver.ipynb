{
 "cells": [
  {
   "cell_type": "markdown",
   "metadata": {},
   "source": [
    "Suppose we have $s = (x_1, x_2, x_3, ... x_n)$ with $x_i \\in \\mathcal{N}$\n",
    "\n",
    "Every possible number expressible with these and the 4 basic operations (subtraction, addition, multiplication, and division) can be expressed as follows:  \n",
    "\n",
    "    Pick a number without replacement, call it a.  \n",
    "    \n",
    "    While s is not empty:  \n",
    "    \n",
    "        Pick a number without replacement, call it b.  \n",
    "        \n",
    "        Pick an operation, call it #  \n",
    "        \n",
    "        Choose one of a # b and b # a. Call the result a  \n",
    "        \n",
    "    Return a\n",
    "   \n",
    "\n",
    "\n"
   ]
  },
  {
   "cell_type": "code",
   "execution_count": 39,
   "metadata": {
    "collapsed": false
   },
   "outputs": [],
   "source": [
    "from __future__ import division\n",
    "import itertools\n",
    "import operator\n",
    "import numpy as np\n",
    "\n",
    "    \n",
    "def evaluate_choice(choice):\n",
    "    number_permutation, reversal, ops = choice\n",
    "    a = number_permutation[0] \n",
    "    for i in range(len(ops)):\n",
    "        op = ops[i]\n",
    "        b = number_permutation[i + 1] \n",
    "        reverse = reversal[i]\n",
    "        try:\n",
    "            a = op(b, a) if reverse else op(a, b)\n",
    "        except ZeroDivisionError:\n",
    "            a = np.nan\n",
    "    return a\n",
    "\n",
    "op_strings = {\n",
    "    operator.add : \" + \",\n",
    "    operator.sub : \" - \",\n",
    "    operator.mul : \" * \",\n",
    "    operator.div : \" / \",\n",
    "}\n",
    "\n",
    "def choice_to_string(choice):\n",
    "    \"\"\" convenience method for printing a choice out in human reada\"\"\"\n",
    "    number_permutation, reversal, ops = choice\n",
    "    str_a = str(int(number_permutation[0]))\n",
    "    for i in range(len(ops)):\n",
    "        op = ops[i]\n",
    "        b = number_permutation[i + 1] \n",
    "        str_b = str(int(b))\n",
    "        reverse = reversal[i]\n",
    "        first = str_b if reverse else str_a\n",
    "        second = str_a if reverse else str_b\n",
    "        str_a = \"({first} {op} {second})\".format(first=first, op=op_strings[op], second=second)\n",
    "    return str_a\n",
    "\n",
    "def generate_choices(numbers):\n",
    "    \"\"\"a choice is a permutation of numbers, operations to join them, and whether to reverse at each operation\n",
    "     this generates all possible choices given some starting numbers\n",
    "     if there are 4 choices, there should be 12288 = 4! * 2 ** 3 * 4 ** 3 choices\"\"\"\n",
    "    numbers = tuple([float(i) for i in numbers])\n",
    "    number_permutations = list(itertools.permutations(numbers))\n",
    "    bools = [True, False]\n",
    "    reversals = list(itertools.product(bools, repeat=len(numbers) - 1))\n",
    "    operations = [operator.add, operator.sub, operator.mul, operator.div]\n",
    "    operation_product = list(itertools.product(operations, repeat=len(numbers) - 1))\n",
    "    omega = list(itertools.product(number_permutations, reversals, operation_product))\n",
    "    return omega\n",
    "    \n",
    "def solve(numbers, objective):\n",
    "    \"\"\" numbers are a tuple of the 4 numbers, objective is an int\n",
    "    For example, solve((1,3,4,6), 24)\"\"\"\n",
    "    omega = generate_choices(numbers)\n",
    "    answers = map(evaluate_choice, omega)\n",
    "    if objective in answers:\n",
    "        print(choice_to_string(omega[answers.index(objective)]))\n",
    "    else:\n",
    "        print(\"%s not found\" % objective)\n"
   ]
  },
  {
   "cell_type": "code",
   "execution_count": 40,
   "metadata": {
    "collapsed": false
   },
   "outputs": [
    {
     "name": "stdout",
     "output_type": "stream",
     "text": [
      "(6  /  (1  -  (3  /  4)))\n"
     ]
    }
   ],
   "source": [
    "solve((1,3,4,6), 24)"
   ]
  },
  {
   "cell_type": "code",
   "execution_count": 34,
   "metadata": {
    "collapsed": false
   },
   "outputs": [
    {
     "name": "stdout",
     "output_type": "stream",
     "text": [
      "<built-in function add>\n"
     ]
    }
   ],
   "source": []
  },
  {
   "cell_type": "code",
   "execution_count": null,
   "metadata": {
    "collapsed": true
   },
   "outputs": [],
   "source": []
  }
 ],
 "metadata": {
  "kernelspec": {
   "display_name": "Python 2",
   "language": "python",
   "name": "python2"
  },
  "language_info": {
   "codemirror_mode": {
    "name": "ipython",
    "version": 2
   },
   "file_extension": ".py",
   "mimetype": "text/x-python",
   "name": "python",
   "nbconvert_exporter": "python",
   "pygments_lexer": "ipython2",
   "version": "2.7.12"
  }
 },
 "nbformat": 4,
 "nbformat_minor": 0
}
